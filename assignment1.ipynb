{
 "cells": [
  {
   "cell_type": "markdown",
   "metadata": {
    "nbgrader": {
     "grade": false,
     "grade_id": "cell-4cc1a4b58a7804ce",
     "locked": true,
     "schema_version": 1,
     "solution": false
    }
   },
   "source": [
    "# Assignment 1\n",
    "For this assignment you'll be looking at 2017 data on immunizations from the CDC. Your datafile for this assignment is in [datasets/NISPUF17.csv](datasets/NISPUF17.csv). A data users guide for this, which you'll need to map the variables in the data to the questions being asked, is available at [datasets/NIS-PUF17-DUG.pdf](datasets/NIS-PUF17-DUG.pdf)."
   ]
  },
  {
   "cell_type": "markdown",
   "metadata": {
    "nbgrader": {
     "grade": false,
     "grade_id": "cell-118357d73b1f8d41",
     "locked": true,
     "schema_version": 1,
     "solution": false
    }
   },
   "source": [
    "## Question 1 (20%)\n",
    "Write a function called `proportion_of_education` which returns the proportion of children in the dataset who had a mother with the education levels equal to less than high school (<12), high school (12), more than high school but not a college graduate (>12) and college degree.\n",
    "\n",
    "*This function should return a dictionary in the form of (use the correct numbers, do not round numbers):* \n",
    "```\n",
    "    {\"less than high school\":0.2,\n",
    "    \"high school\":0.4,\n",
    "    \"more than high school but not college\":0.2,\n",
    "    \"college\":0.2}\n",
    "```"
   ]
  },
  {
   "cell_type": "code",
   "execution_count": 27,
   "metadata": {
    "nbgrader": {
     "grade": false,
     "grade_id": "cell-d4625c53be146b54",
     "locked": false,
     "schema_version": 1,
     "solution": true
    }
   },
   "outputs": [],
   "source": [
    "def proportion_of_education():\n",
    "    import collections\n",
    "    import pandas as pd\n",
    "    df = pd.read_csv('datasets/NISPUF17.csv')\n",
    "    EDUC1 = df[['EDUC1']]\n",
    "    elem = EDUC1.groupby([\"EDUC1\"]).size()\n",
    "    sum_elem = EDUC1.groupby([\"EDUC1\"]).size().sum()\n",
    "\n",
    "    education_dict = {\"less than high school\":elem[1]/sum_elem,\n",
    "                      \"high school\":elem[2]/sum_elem,\n",
    "                    \"more than high school but not college\":elem[3]/sum_elem,\n",
    "                    \"college\":elem[4]/sum_elem}\n",
    "    return education_dict"
   ]
  },
  {
   "cell_type": "code",
   "execution_count": 28,
   "metadata": {
    "nbgrader": {
     "grade": true,
     "grade_id": "cell-75b071a5208d6122",
     "locked": true,
     "points": 20,
     "schema_version": 1,
     "solution": false
    }
   },
   "outputs": [],
   "source": [
    "assert type(proportion_of_education())==type({}), \"You must return a dictionary.\"\n",
    "assert len(proportion_of_education()) == 4, \"You have not returned a dictionary with four items in it.\"\n",
    "assert \"less than high school\" in proportion_of_education().keys(), \"You have not returned a dictionary with the correct keys.\"\n",
    "assert \"high school\" in proportion_of_education().keys(), \"You have not returned a dictionary with the correct keys.\"\n",
    "assert \"more than high school but not college\" in proportion_of_education().keys(), \"You have not returned a dictionary with the correct keys.\"\n",
    "assert \"college\" in proportion_of_education().keys(), \"You have not returned a dictionary with the correct keys.\""
   ]
  },
  {
   "cell_type": "code",
   "execution_count": 29,
   "metadata": {},
   "outputs": [
    {
     "data": {
      "text/plain": [
       "{'less than high school': 0.10202002459160373,\n",
       " 'high school': 0.172352011241876,\n",
       " 'more than high school but not college': 0.24588090637625154,\n",
       " 'college': 0.47974705779026877}"
      ]
     },
     "execution_count": 29,
     "metadata": {},
     "output_type": "execute_result"
    }
   ],
   "source": [
    "proportion_of_education()"
   ]
  },
  {
   "cell_type": "markdown",
   "metadata": {
    "nbgrader": {
     "grade": false,
     "grade_id": "cell-b948ba903be81272",
     "locked": true,
     "schema_version": 1,
     "solution": false
    }
   },
   "source": [
    "## Question 2 (20%)\n",
    "\n",
    "Let's explore the relationship between being fed breastmilk as a child and getting a seasonal influenza vaccine from a healthcare provider. Return a tuple of the average number of influenza vaccines for those children we know received breastmilk as a child and those who know did not.\n",
    "\n",
    "*This function should return a tuple in the form (use the correct numbers:*\n",
    "```\n",
    "(2.5, 0.1)\n",
    "```"
   ]
  },
  {
   "cell_type": "code",
   "execution_count": 32,
   "metadata": {
    "nbgrader": {
     "grade": false,
     "grade_id": "cell-2cbda7565b40aaf3",
     "locked": false,
     "schema_version": 1,
     "solution": true
    }
   },
   "outputs": [],
   "source": [
    "def average_influenza_doses():\n",
    "    # your code goes here\n",
    "    import pandas as pd\n",
    "    df = pd.read_csv('datasets/NISPUF17.csv')\n",
    "    new_df = df[['P_NUMFLU','CBF_01']].dropna().groupby('CBF_01').mean()\n",
    "    \n",
    "    tuple_influenza = (float(new_df.iloc[0]),float(new_df.iloc[1]))\n",
    "    #print(tuple_influenza)\n",
    "    return tuple_influenza"
   ]
  },
  {
   "cell_type": "code",
   "execution_count": 33,
   "metadata": {
    "nbgrader": {
     "grade": true,
     "grade_id": "cell-744f239f462ce2c9",
     "locked": true,
     "points": 20,
     "schema_version": 1,
     "solution": false
    }
   },
   "outputs": [],
   "source": [
    "assert len(average_influenza_doses())==2, \"Return two values in a tuple, the first for yes and the second for no.\""
   ]
  },
  {
   "cell_type": "code",
   "execution_count": 34,
   "metadata": {},
   "outputs": [
    {
     "data": {
      "text/plain": [
       "(1.8799187420058687, 1.5963945918878317)"
      ]
     },
     "execution_count": 34,
     "metadata": {},
     "output_type": "execute_result"
    }
   ],
   "source": [
    "average_influenza_doses()"
   ]
  },
  {
   "cell_type": "markdown",
   "metadata": {
    "nbgrader": {
     "grade": false,
     "grade_id": "cell-44a53f714bc05c27",
     "locked": true,
     "schema_version": 1,
     "solution": false
    }
   },
   "source": [
    "## Question 3 (25%)\n",
    "It would be interesting to see if there is any evidence of a link between vaccine effectiveness and sex of the child. Calculate the ratio of the number of children who contracted chickenpox but were vaccinated against it (at least one varicella dose) versus those who were vaccinated but did not contract chicken pox. Return results by sex. \n",
    "\n",
    "*This function should return a dictionary in the form of (use the correct numbers):* \n",
    "```\n",
    "    {\"male\":0.2,\n",
    "    \"female\":0.4}\n",
    "```\n",
    "\n",
    "Note: To aid in verification, the `chickenpox_by_sex()['female']` value I'm looking for starts with the digits `0.00773`."
   ]
  },
  {
   "cell_type": "code",
   "execution_count": 35,
   "metadata": {
    "nbgrader": {
     "grade": false,
     "grade_id": "cell-28bc178306233102",
     "locked": false,
     "schema_version": 1,
     "solution": true
    }
   },
   "outputs": [],
   "source": [
    "def chickenpox_by_sex():\n",
    "    import pandas as pd\n",
    "    df = pd.read_csv('datasets/NISPUF17.csv')\n",
    "    df2 = df[[\"HAD_CPOX\",\"SEX\",'P_NUMVRC']].dropna() #drop not a number\n",
    "    df3 = df2.loc[(df2[\"P_NUMVRC\"] == 1)|(df2[\"P_NUMVRC\"] == 2)]\n",
    "    #df2[df2['P_NUMVRC'] != 0]  #remove the 0s\n",
    "    df4 = df3.groupby([\"HAD_CPOX\",\"SEX\"]).size().to_frame(\"count\").reset_index() #convert series to df\n",
    "\n",
    "\n",
    "    male_cpox =(df4.loc[(df4[\"SEX\"] == 1)&(df4[\"HAD_CPOX\"] == 1), [\"count\"]]).iloc[0].item() ##what is iloc and item\n",
    "    male_no_cpox = (df4.loc[(df4[\"SEX\"] == 1)&(df4[\"HAD_CPOX\"] == 2), [\"count\"]]).iloc[0].item() \n",
    "\n",
    "    female_cpox = (df4.loc[(df4[\"SEX\"] == 2)&(df4[\"HAD_CPOX\"] == 1), [\"count\"]]).iloc[0].item() ##what is iloc and item\n",
    "    female_no_cpox = (df4.loc[(df4[\"SEX\"] == 2)&(df4[\"HAD_CPOX\"] == 2), [\"count\"]]).iloc[0].item() \n",
    "\n",
    "    #print({'male':male_cpox/male_no_cpox,'female':female_cpox / female_no_cpox    })\n",
    "    dict_cpox = {'male':male_cpox/male_no_cpox,'female':female_cpox / female_no_cpox    }\n",
    "    return dict_cpox"
   ]
  },
  {
   "cell_type": "code",
   "execution_count": 36,
   "metadata": {
    "nbgrader": {
     "grade": true,
     "grade_id": "cell-fba9cff0bf962f1a",
     "locked": true,
     "points": 25,
     "schema_version": 1,
     "solution": false
    }
   },
   "outputs": [],
   "source": [
    "assert len(chickenpox_by_sex())==2, \"Return a dictionary with two items, the first for males and the second for females.\""
   ]
  },
  {
   "cell_type": "code",
   "execution_count": 37,
   "metadata": {},
   "outputs": [
    {
     "data": {
      "text/plain": [
       "{'male': 0.009676960296001139, 'female': 0.0077918259335489565}"
      ]
     },
     "execution_count": 37,
     "metadata": {},
     "output_type": "execute_result"
    }
   ],
   "source": [
    "chickenpox_by_sex()"
   ]
  },
  {
   "cell_type": "markdown",
   "metadata": {
    "nbgrader": {
     "grade": false,
     "grade_id": "cell-47c4f4b6b03586e4",
     "locked": true,
     "schema_version": 1,
     "solution": false
    }
   },
   "source": [
    "## Question 4 (25%)\n",
    "A correlation is a statistical relationship between two variables. If we wanted to know if vaccines work, we might look at the correlation between the use of the vaccine and whether it results in prevention of the infection or disease [1]. In this question, you are to see if there is a correlation between having had the chicken pox and the number of chickenpox vaccine doses given (varicella).\n",
    "\n",
    "Some notes on interpreting the answer. If the `had_chickenpox_column` is either `1` (for yes) or `2` for no, and that the `num_chickenpox_vaccine_column` is the number of doses a child has been given of the varicella vaccine, then a positive correlation (e.g. `corr > 0`) would mean that an increase in `had_chickenpox_column` (which means more no's) would mean an increase in the `num_chickenpox_vaccine_column` (which means more doses of vaccine). If `corr < 0` then there is a negative correlation, indicating that having had chickenpox is related to an increase in the number of vaccine doses. Also, `pval` refers to the probability the relationship observed is significant. In this case `pval` should be very very small (will end in `e-18` indicating a very small number), which means the result unlikely to be by chance.\n",
    "\n",
    "[1] This isn't really the full picture, since we are not looking at when the dose was given. It's possible that children had chickenpox and then their parents went to get them the vaccine. Does this dataset have the data we would need to investigate the timing of the dose?"
   ]
  },
  {
   "cell_type": "code",
   "execution_count": 38,
   "metadata": {
    "nbgrader": {
     "grade": false,
     "grade_id": "cell-8a03b576e9dc513f",
     "locked": false,
     "schema_version": 1,
     "solution": true
    }
   },
   "outputs": [],
   "source": [
    "def corr_chickenpox():\n",
    "    import scipy.stats as stats\n",
    "    import numpy as np\n",
    "    import pandas as pd\n",
    "    df = pd.read_csv('datasets/NISPUF17.csv')\n",
    "    \n",
    "    df1 = df[[\"P_NUMVRC\",\"HAD_CPOX\"]].dropna()\n",
    "    df2 = df1.loc[(df1[\"HAD_CPOX\"] == 1)|(df[\"HAD_CPOX\"] == 2)]\n",
    "    df3 = df2.rename(columns= {\"P_NUMVRC\":\"num_chickenpox_vaccine_column\", \"HAD_CPOX\":\"had_chickenpox_column\"})\n",
    "    corr, pval=stats.pearsonr(df3[\"had_chickenpox_column\"],df3[\"num_chickenpox_vaccine_column\"])\n",
    "    return (corr)"
   ]
  },
  {
   "cell_type": "code",
   "execution_count": 39,
   "metadata": {
    "nbgrader": {
     "grade": true,
     "grade_id": "cell-6e19cbdf20cb9e56",
     "locked": true,
     "points": 25,
     "schema_version": 1,
     "solution": false
    }
   },
   "outputs": [],
   "source": [
    "assert -1<=corr_chickenpox()<=1, \"You must return a float number between -1.0 and 1.0.\""
   ]
  },
  {
   "cell_type": "code",
   "execution_count": 40,
   "metadata": {},
   "outputs": [
    {
     "data": {
      "text/plain": [
       "0.07044873460147985"
      ]
     },
     "execution_count": 40,
     "metadata": {},
     "output_type": "execute_result"
    }
   ],
   "source": [
    "corr_chickenpox()"
   ]
  },
  {
   "cell_type": "markdown",
   "metadata": {
    "nbgrader": {
     "grade": false,
     "grade_id": "cell-2dc5df47bc7f88d2",
     "locked": true,
     "schema_version": 1,
     "solution": false
    }
   },
   "source": [
    "## Question 5 (10%)\n",
    "\n",
    "Is there a relationship between states which voted for the republican candidate for president in 2016 (Trump) versus those who voted for the democratic candidate for president in 2016 (Hillary) and the rate of vaccination in those states in 2017? I would like you to answer this by doing a correlation test between the ratio of votes for Trump/Clinton against the ratio of Vaccination/Non-Vaccination (of Chickenpox!) by state.\n",
    "\n",
    "Note: You are certainly using joins or merges here.\n",
    "\n",
    "Note: You will might need the state [FIPS identifiers](https://en.wikipedia.org/wiki/Federal_Information_Processing_Standard_state_code#FIPS_state_codes) and will certainly want the [MIT Elections Data](https://dataverse.harvard.edu/dataset.xhtml?persistentId=doi:10.7910/DVN/42MVDX) which has the results from 2018.\n",
    "\n",
    "Note: I don't know the answer to this question already."
   ]
  },
  {
   "cell_type": "code",
   "execution_count": 41,
   "metadata": {
    "nbgrader": {
     "grade": false,
     "grade_id": "cell-7bfd291ce527a051",
     "locked": false,
     "schema_version": 1,
     "solution": true
    }
   },
   "outputs": [],
   "source": [
    "%matplotlib inline\n",
    "def corr_election():\n",
    "    import scipy.stats as stats\n",
    "    import numpy as np\n",
    "    import pandas as pd\n",
    "    df_president = pd.read_csv(\"https://dataverse.harvard.edu/api/access/datafile/:persistentId?persistentId=doi:10.7910/DVN/42MVDX/MFU99O\",sep  = \"\\t\")\n",
    "    df_vaccine = pd.read_csv('datasets/NISPUF17.csv')\n",
    "    \n",
    "    df_president = df_president[['state_fips','candidate','candidatevotes','party','writein']].dropna().loc[df_president['year'] == 2016] #get useful columns and year 2016\n",
    "    trump_votes = df_president.loc[(df_president['candidate'] == 'Trump, Donald J.')& ~(df_president[\"writein\"])].loc[df_president['party'] == 'republican'] #Get trump, clean up party column and writein column\n",
    "    clinton_votes = df_president.loc[(df_president['candidate'] == 'Clinton, Hillary')& ~(df_president[\"writein\"])].loc[df_president['party'] == 'democrat'] #likewise\n",
    "    trump_clinton_votes = pd.merge(trump_votes, clinton_votes, on = \"state_fips\") #merge\n",
    "    trump_clinton_votes['ratio'] = (trump_clinton_votes['candidatevotes_x'])/trump_clinton_votes['candidatevotes_y'] #ratio\n",
    "    \n",
    "    df_vaccine = df_vaccine[[\"STATE\",\"P_NUMVRC\"]]#get two useful columns\n",
    "    df_no_vaccine = df_vaccine [df_vaccine['P_NUMVRC'] == 0].groupby([\"STATE\"]).size().to_frame(\"count\").reset_index().rename(columns= {\"STATE\":\"state\", \"count\":\"no_vaccine\"}) #get no vaccine data\n",
    "    df_yes_vaccine = df_vaccine [df_vaccine['P_NUMVRC'] >= 1].groupby([\"STATE\"]).size().to_frame(\"count\").reset_index().rename(columns= {\"STATE\":\"state\", \"count\":\"yes_vaccine\"}) #get yes vaccine data\n",
    "    merge_vaccine = pd.merge(df_no_vaccine,df_yes_vaccine , on = \"state\") #merge\n",
    "    ratio_vaccine = merge_vaccine['yes_vaccine']/(( merge_vaccine['no_vaccine'])+(merge_vaccine['yes_vaccine']))\n",
    "    corr, pval=stats.pearsonr(trump_clinton_votes['ratio'],ratio_vaccine)\n",
    "    \n",
    "    df=pd.DataFrame({\"ratio of trump/clinton\":trump_clinton_votes['ratio'], #plot dataframe\n",
    "                     \"ratio of vaccinated/non\":ratio_vaccine})\n",
    "    df.plot() #plots a fancy graph   \n",
    "    # just return the correlation at the end\n",
    "    return corr, pval"
   ]
  },
  {
   "cell_type": "code",
   "execution_count": 42,
   "metadata": {
    "nbgrader": {
     "grade": true,
     "grade_id": "cell-2451528487f5b391",
     "locked": true,
     "points": 10,
     "schema_version": 1,
     "solution": false
    }
   },
   "outputs": [
    {
     "data": {
      "text/plain": [
       "(-0.2601154923758659, 0.06526807297710618)"
      ]
     },
     "execution_count": 42,
     "metadata": {},
     "output_type": "execute_result"
    },
    {
     "data": {
      "image/png": "[encoded data removed]",
      "text/plain": [
       "<Figure size 432x288 with 1 Axes>"
      ]
     },
     "metadata": {
      "needs_background": "light"
     },
     "output_type": "display_data"
    }
   ],
   "source": [
    "corr_election()"
   ]
  },
  {
   "cell_type": "code",
   "execution_count": null,
   "metadata": {},
   "outputs": [],
   "source": []
  }
 ],
 "metadata": {
  "celltoolbar": "Create Assignment",
  "kernelspec": {
   "display_name": "Python 3",
   "language": "python",
   "name": "python3"
  },
  "language_info": {
   "codemirror_mode": {
    "name": "ipython",
    "version": 3
   },
   "file_extension": ".py",
   "mimetype": "text/x-python",
   "name": "python",
   "nbconvert_exporter": "python",
   "pygments_lexer": "ipython3",
   "version": "3.7.3"
  }
 },
 "nbformat": 4,
 "nbformat_minor": 2
}
