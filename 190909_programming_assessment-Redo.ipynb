{
 "cells": [
  {
   "cell_type": "markdown",
   "metadata": {
    "nbgrader": {
     "grade": false,
     "grade_id": "cell-4cc1a4b58a7804ce",
     "locked": true,
     "schema_version": 1,
     "solution": false
    }
   },
   "source": [
    "# Assignment 1\n",
    "For this assignment you'll be looking at 2017 data on immunizations from the CDC. Your datafile for this assignment is in [datasets/NISPUF17.csv](datasets/NISPUF17.csv). A data users guide for this, which you'll need to map the variables in the data to the questions being asked, is available at [datasets/NIS-PUF17-DUG.pdf](datasets/NIS-PUF17-DUG.pdf)."
   ]
  },
  {
   "cell_type": "markdown",
   "metadata": {
    "nbgrader": {
     "grade": false,
     "grade_id": "cell-118357d73b1f8d41",
     "locked": true,
     "schema_version": 1,
     "solution": false
    }
   },
   "source": [
    "## Question 1 (20%)\n",
    "Write a function called `proportion_of_education` which returns the proportion of children in the dataset who had a mother with the education levels equal to less than high school (<12), high school (12), more than high school but not a college graduate (>12) and college degree.\n",
    "\n",
    "*This function should return a dictionary in the form of (use the correct numbers, do not round numbers):* \n",
    "```\n",
    "    {\"less than high school\":0.2,\n",
    "    \"high school\":0.4,\n",
    "    \"more than high school but not college\":0.2,\n",
    "    \"college\":0.2}\n",
    "```"
   ]
  },
  {
   "cell_type": "code",
   "execution_count": 4,
   "metadata": {
    "nbgrader": {
     "grade": false,
     "grade_id": "cell-d4625c53be146b54",
     "locked": false,
     "schema_version": 1,
     "solution": true
    }
   },
   "outputs": [
    {
     "data": {
      "text/plain": [
       "{'college': 0.47974705779026877,\n",
       " 'high school': 0.172352011241876,\n",
       " 'less than high school': 0.10202002459160373,\n",
       " 'more than high school but not college': 0.24588090637625154}"
      ]
     },
     "execution_count": 4,
     "metadata": {},
     "output_type": "execute_result"
    }
   ],
   "source": [
    "import collections\n",
    "def proportion_of_education():\n",
    "    import pandas as pd\n",
    "    df = pd.read_csv('NISPUF17.csv')\n",
    "    EDUC1 = df[['EDUC1']]\n",
    "    elem = EDUC1.groupby([\"EDUC1\"]).size()\n",
    "    sum_elem = EDUC1.groupby([\"EDUC1\"]).size().sum()\n",
    "\n",
    "    education_dict = {\"less than high school\":elem[1]/sum_elem,\n",
    "                      \"high school\":elem[2]/sum_elem,\n",
    "                    \"more than high school but not college\":elem[3]/sum_elem,\n",
    "                    \"college\":elem[4]/sum_elem}\n",
    "    return education_dict\n",
    "proportion_of_education()"
   ]
  },
  {
   "cell_type": "code",
   "execution_count": 5,
   "metadata": {
    "nbgrader": {
     "grade": true,
     "grade_id": "cell-75b071a5208d6122",
     "locked": true,
     "points": 20,
     "schema_version": 1,
     "solution": false
    }
   },
   "outputs": [],
   "source": [
    "assert type(proportion_of_education())==type({}), \"You must return a dictionary.\"\n",
    "assert len(proportion_of_education()) == 4, \"You have not returned a dictionary with four items in it.\"\n",
    "assert \"less than high school\" in proportion_of_education().keys(), \"You have not returned a dictionary with the correct keys.\"\n",
    "assert \"high school\" in proportion_of_education().keys(), \"You have not returned a dictionary with the correct keys.\"\n",
    "assert \"more than high school but not college\" in proportion_of_education().keys(), \"You have not returned a dictionary with the correct keys.\"\n",
    "assert \"college\" in proportion_of_education().keys(), \"You have not returned a dictionary with the correct keys.\""
   ]
  },
  {
   "cell_type": "markdown",
   "metadata": {
    "nbgrader": {
     "grade": false,
     "grade_id": "cell-b948ba903be81272",
     "locked": true,
     "schema_version": 1,
     "solution": false
    }
   },
   "source": [
    "## Question 2 (20%)\n",
    "\n",
    "Let's explore the relationship between being fed breastmilk as a child and getting a seasonal influenza vaccine from a healthcare provider. Return a tuple of the average number of influenza vaccines for those children we know received breastmilk as a child and those who know did not.\n",
    "\n",
    "*This function should return a tuple in the form (use the correct numbers:*\n",
    "```\n",
    "(2.5, 0.1)\n",
    "```"
   ]
  },
  {
   "cell_type": "code",
   "execution_count": 8,
   "metadata": {
    "nbgrader": {
     "grade": false,
     "grade_id": "cell-2cbda7565b40aaf3",
     "locked": false,
     "schema_version": 1,
     "solution": true
    }
   },
   "outputs": [
    {
     "data": {
      "text/plain": [
       "(1.8799187420058687, 1.5963945918878317)"
      ]
     },
     "execution_count": 8,
     "metadata": {},
     "output_type": "execute_result"
    }
   ],
   "source": [
    "def average_influenza_doses():\n",
    "    # your code goes here\n",
    "    import pandas as pd\n",
    "    df = pd.read_csv('NISPUF17.csv')\n",
    "    new_df = df[['P_NUMFLU','CBF_01']].dropna().groupby('CBF_01').mean()    \n",
    "    tuple_influenza = (float(new_df.iloc[0]),float(new_df.iloc[1]))\n",
    "    return tuple_influenza\n",
    "average_influenza_doses()"
   ]
  },
  {
   "cell_type": "code",
   "execution_count": 9,
   "metadata": {
    "nbgrader": {
     "grade": true,
     "grade_id": "cell-744f239f462ce2c9",
     "locked": true,
     "points": 20,
     "schema_version": 1,
     "solution": false
    }
   },
   "outputs": [],
   "source": [
    "assert len(average_influenza_doses())==2, \"Return two values in a tuple, the first for yes and the second for no.\""
   ]
  },
  {
   "cell_type": "markdown",
   "metadata": {
    "nbgrader": {
     "grade": false,
     "grade_id": "cell-44a53f714bc05c27",
     "locked": true,
     "schema_version": 1,
     "solution": false
    }
   },
   "source": [
    "## Question 3 (25%)\n",
    "It would be interesting to see if there is any evidence of a link between vaccine effectiveness and sex of the child. Calculate the ratio of the number of children who contracted chickenpox but were vaccinated against it (at least one varicella dose) versus those who were vaccinated and did not contract chicken pox. Return results by sex. \n",
    "\n",
    "*This function should return a dictionary in the form of (use the correct numbers):* \n",
    "```\n",
    "    {\"male\":0.2,\n",
    "    \"female\":0.4}\n",
    "```\n",
    "\n",
    "Note: To aid in verification, the `chickenpox_by_sex()['female']` value I'm looking for starts with the digits `0.00773`."
   ]
  },
  {
   "cell_type": "code",
   "execution_count": 14,
   "metadata": {
    "nbgrader": {
     "grade": false,
     "grade_id": "cell-28bc178306233102",
     "locked": false,
     "schema_version": 1,
     "solution": true
    }
   },
   "outputs": [],
   "source": [
    "def chickenpox_by_sex():\n",
    "    import pandas as pd\n",
    "    import numpy as np\n",
    "    df = pd.read_csv('NISPUF17.csv')\n",
    "    \n",
    "    df = pd.read_csv('NISPUF17.csv')\n",
    "    #.loc[(df['HAD_CPOX'] == 1)]\n",
    "    cpox = df[[\"HAD_CPOX\",\"SEX\",'P_NUMVRC']]\n",
    "    #filter only by male\n",
    "    male = cpox.where(cpox['SEX'] == 1).dropna() \n",
    "    #filter only by female\n",
    "    female = cpox.where(cpox['SEX'] == 2).dropna() \n",
    "    \n",
    "    #children with cpox\n",
    "    male_had_cpox = male.where(male['HAD_CPOX'] == 1).dropna() \n",
    "    male_no_cpox = male.where(male['HAD_CPOX'] != 1).dropna()#whithout cpox\n",
    "    male_yes_cpox_vaccinated = male_had_cpox.where(male_had_cpox['P_NUMVRC'] > 0).dropna()\n",
    "    male_no_cpox_vaccinated = male_no_cpox.where(male_no_cpox['P_NUMVRC'] > 0).dropna()\n",
    "    count_yes = male_yes_cpox_vaccinated.groupby(['HAD_CPOX','SEX']).size().to_frame(\"count\").reset_index()\n",
    "    \n",
    "    count_no = male_no_cpox_vaccinated.groupby(['HAD_CPOX','SEX']).size().to_frame(\"count\").reset_index()\n",
    "    \n",
    "    male_ratio = count_yes/count_no    \n",
    "    male_ratio = male_ratio['count'][0]\n",
    "    \n",
    "    #drop not a number\n",
    "    df2 = df[[\"HAD_CPOX\",\"SEX\",'P_NUMVRC']].dropna() \n",
    "    df3 = df2.loc[(df2[\"P_NUMVRC\"] == 1)|(df2[\"P_NUMVRC\"] == 2)]\n",
    "    \n",
    "    #df2[df2['P_NUMVRC'] != 0]  #remove the 0s\n",
    "    #convert series to df\n",
    "    df4 = df3.groupby([\"HAD_CPOX\",\"SEX\"]).size().to_frame(\"count\").reset_index() \n",
    "\n",
    "    female_cpox = (df4.loc[(df4[\"SEX\"] == 2)&(df4[\"HAD_CPOX\"] == 1), [\"count\"]]).iloc[0].item()\n",
    "    female_no_cpox = (df4.loc[(df4[\"SEX\"] == 2)&(df4[\"HAD_CPOX\"] == 2), [\"count\"]]).iloc[0].item() \n",
    "\n",
    "    print({'male':male_ratio,'female':female_cpox / female_no_cpox    })\n",
    "    dict_cpox = {'male':male_ratio,'female':female_cpox / female_no_cpox    }\n",
    "    return dict_cpox"
   ]
  },
  {
   "cell_type": "code",
   "execution_count": 15,
   "metadata": {
    "nbgrader": {
     "grade": true,
     "grade_id": "cell-fba9cff0bf962f1a",
     "locked": true,
     "points": 25,
     "schema_version": 1,
     "solution": false
    },
    "scrolled": true
   },
   "outputs": [
    {
     "name": "stdout",
     "output_type": "stream",
     "text": [
      "{'male': 0.009675583380762664, 'female': 0.0077918259335489565}\n"
     ]
    }
   ],
   "source": [
    "assert len(chickenpox_by_sex())==2, \"Return a dictionary with two items, the first for males and the second for females.\""
   ]
  },
  {
   "cell_type": "markdown",
   "metadata": {
    "nbgrader": {
     "grade": false,
     "grade_id": "cell-47c4f4b6b03586e4",
     "locked": true,
     "schema_version": 1,
     "solution": false
    }
   },
   "source": [
    "## Question 4 (25%)\n",
    "A correlation is a statistical relationship between two variables. If we wanted to know if vaccines work, we might look at the correlation between the use of the vaccine and whether it results in prevention of the infection or disease [1]. In this question, you are to see if there is a correlation between having had the chicken pox and the number of chickenpox vaccine doses given (varicella).\n",
    "\n",
    "Some notes on interpreting the answer. If the `had_chickenpox_column` is either `1` (for yes) or `2` for no, and that the `num_chickenpox_vaccine_column` is the number of doses a child has been given of the varicella vaccine, then a positive correlation (e.g. `corr > 0`) would mean that an increase in `had_chickenpox_column` (which means more no's) would mean an increase in the `num_chickenpox_vaccine_column` (which means more doses of vaccine). If `corr < 0` then there is a negative correlation, indicating that having had chickenpox is related to an increase in the number of vaccine doses. Also, `pval` refers to the probability the relationship observed is significant. In this case `pval` should be very very small (will end in `e-18` indicating a very small number), which means the result unlikely to be by chance.\n",
    "\n",
    "[1] This isn't really the full picture, since we are not looking at when the dose was given. It's possible that children had chickenpox and then their parents went to get them the vaccine. Does this dataset have the data we would need to investigate the timing of the dose?"
   ]
  },
  {
   "cell_type": "code",
   "execution_count": 8,
   "metadata": {
    "nbgrader": {
     "grade": false,
     "grade_id": "cell-8a03b576e9dc513f",
     "locked": false,
     "schema_version": 1,
     "solution": true
    }
   },
   "outputs": [],
   "source": [
    "def corr_chickenpox():\n",
    "    import scipy.stats as stats\n",
    "    import numpy as np\n",
    "    import pandas as pd\n",
    "    \n",
    "    # this is just an example dataframe    \n",
    "    df1 = df[[\"P_NUMVRC\",\"HAD_CPOX\"]].dropna()\n",
    "    df2 = df1.loc[(df1[\"HAD_CPOX\"] == 1)|(df[\"HAD_CPOX\"] == 2)]\n",
    "    df3 = df2.rename(columns= {\"P_NUMVRC\":\"num_chickenpox_vaccine_column\", \"HAD_CPOX\":\"had_chickenpox_column\"})\n",
    "    \n",
    "    # here is some stub code to actually run the correlation\n",
    "    corr, pval=stats.pearsonr(df3[\"had_chickenpox_column\"],df3[\"num_chickenpox_vaccine_column\"])\n",
    "    \n",
    "    # just return the correlation at the end\n",
    "    # return corr\n",
    "    print(corr_chickenpox())"
   ]
  },
  {
   "cell_type": "code",
   "execution_count": 21,
   "metadata": {},
   "outputs": [
    {
     "data": {
      "text/plain": [
       "0.07044873460148"
      ]
     },
     "execution_count": 21,
     "metadata": {},
     "output_type": "execute_result"
    }
   ],
   "source": [
    "def corr_chickenpox():\n",
    "    import scipy.stats as stats\n",
    "    import pandas as pd\n",
    "    import numpy as np\n",
    "    df = pd.read_csv('NISPUF17.csv')\n",
    "    \n",
    "    df1 = df[[\"P_NUMVRC\",\"HAD_CPOX\"]].dropna()\n",
    "    df2 = df1.loc[(df1[\"HAD_CPOX\"] == 1)|(df[\"HAD_CPOX\"] == 2)]\n",
    "    df3 = df2.rename(columns= {\"P_NUMVRC\":\"num_chickenpox_vaccine_column\", \"HAD_CPOX\":\"had_chickenpox_column\"})\n",
    "    corr, pval=stats.pearsonr(df3[\"had_chickenpox_column\"],df3[\"num_chickenpox_vaccine_column\"])\n",
    "    return (corr)\n",
    "corr_chickenpox()"
   ]
  },
  {
   "cell_type": "code",
   "execution_count": 20,
   "metadata": {
    "nbgrader": {
     "grade": true,
     "grade_id": "cell-6e19cbdf20cb9e56",
     "locked": true,
     "points": 25,
     "schema_version": 1,
     "solution": false
    }
   },
   "outputs": [],
   "source": [
    "assert -1<=corr_chickenpox()<=1, \"You must return a float number between -1.0 and 1.0.\""
   ]
  },
  {
   "cell_type": "markdown",
   "metadata": {
    "nbgrader": {
     "grade": false,
     "grade_id": "cell-2dc5df47bc7f88d2",
     "locked": true,
     "schema_version": 1,
     "solution": false
    }
   },
   "source": [
    "## Question 5 (10%)\n",
    "\n",
    "Is there a relationship between states which voted for the republican candidate for president in 2016 (Trump) versus those who voted for the democratic candidate for president in 2016 (Hillary) and the rate of vaccination in those states in 2017? I would like you to answer this by doing a correlation test between the ratio of votes for Trump/Clinton against the ratio of Vaccination/Non-Vaccination (of Chickenpox!) by state.\n",
    "\n",
    "Note: You are certainly using joins or merges here.\n",
    "\n",
    "Note: You will might need the state [FIPS identifiers](https://en.wikipedia.org/wiki/Federal_Information_Processing_Standard_state_code#FIPS_state_codes) and will certainly want the [MIT Elections Data](https://dataverse.harvard.edu/dataset.xhtml?persistentId=doi:10.7910/DVN/42MVDX) which has the results from 2018.\n",
    "\n",
    "Note: I don't know the answer to this question already."
   ]
  },
  {
   "cell_type": "code",
   "execution_count": 27,
   "metadata": {},
   "outputs": [
    {
     "data": {
      "text/plain": [
       "(-0.28010835423617825, 0.04649924883873912)"
      ]
     },
     "execution_count": 27,
     "metadata": {},
     "output_type": "execute_result"
    }
   ],
   "source": [
    "#correct code\n",
    "%matplotlib inline\n",
    "def corr_election():\n",
    "    import scipy.stats as stats\n",
    "    import numpy as np\n",
    "    import pandas as pd\n",
    "    df_president = pd.read_csv('1976-2016-president.csv')\n",
    "    df_vaccine = pd.read_csv('NISPUF17.csv')\n",
    "\n",
    "\n",
    "    df_president = df_president[['state','candidate','candidatevotes','state_fips','year']]\n",
    "\n",
    "    df_president = df_president[df_president['year'] == 2016]\n",
    "    df_president = (df_president.loc[df_president['candidate']\n",
    "                                     .isin(['Trump, Donald J.','Clinton, Hillary'])])\n",
    "\n",
    "    df_president = (df_president.groupby(['state_fips','candidate'])['candidatevotes']\n",
    "                    .sum()\n",
    "                    .unstack())\n",
    "\n",
    "    merge_votes = df_president.reset_index()\n",
    "\n",
    "    merge_votes = merge_votes.rename(columns= {\"state_fips\":\"STATE\"})\n",
    "    merge_votes['ratio'] = merge_votes['Trump, Donald J.'] / merge_votes['Clinton, Hillary'] \n",
    "\n",
    "    df_vaccine = pd.read_csv('NISPUF17.csv', delimiter = ',')\n",
    "    state_vaccine = df_vaccine[[\"STATE\",\"P_NUMVRC\"]].dropna()\n",
    "    no_vac = (state_vaccine[state_vaccine.P_NUMVRC == 0]\n",
    "              .groupby([\"STATE\"])\n",
    "              .count())\n",
    "\n",
    "    yes_vac = (state_vaccine[(state_vaccine.P_NUMVRC >= 1) \n",
    "                             & (state_vaccine.P_NUMVRC < 77 )]\n",
    "               .groupby([\"STATE\"])\n",
    "               .count())\n",
    "\n",
    "    merge_vac = (yes_vac\n",
    "                 .merge(no_vac, left_index=True, right_index=True)\n",
    "                 .reset_index())\n",
    "    merge_vac['ratio'] = merge_vac['P_NUMVRC_x'] / merge_vac['P_NUMVRC_y']\n",
    "\n",
    "\n",
    "    corr, pval=stats.pearsonr(merge_votes['ratio'],merge_vac['ratio'])\n",
    "\n",
    "    corr\n",
    "    return corr, pval\n",
    "corr_election()"
   ]
  },
  {
   "cell_type": "code",
   "execution_count": 28,
   "metadata": {},
   "outputs": [
    {
     "data": {
      "text/plain": [
       "-0.2790809695271168"
      ]
     },
     "execution_count": 28,
     "metadata": {},
     "output_type": "execute_result"
    }
   ],
   "source": [
    "#alternate answer\n",
    "\n",
    "%matplotlib inline\n",
    "import scipy.stats as stats\n",
    "import numpy as np\n",
    "import pandas as pd\n",
    "df_president = pd.read_csv('1976-2016-president.csv')\n",
    "df_vaccine = pd.read_csv('NISPUF17.csv')\n",
    "\n",
    "#voting data\n",
    "df_president = (df_president[['state_fips','candidate','candidatevotes','party','writein']]\n",
    "                .dropna()\n",
    "                .loc[df_president['year'] == 2016]) #get useful columns and year 2016\n",
    "trump_votes = (df_president\n",
    "               .loc[(df_president['candidate'] == 'Trump, Donald J.')& ~(df_president[\"writein\"])]\n",
    "               .loc[df_president['party'] == 'republican']) #Get trump, clean up party column and writein column\n",
    "clinton_votes = (df_president\n",
    "                 .loc[(df_president['candidate'] == 'Clinton, Hillary')& ~(df_president[\"writein\"])]\n",
    "                 .loc[df_president['party'] == 'democrat']) #likewise\n",
    "trump_clinton_votes = pd.merge(trump_votes, clinton_votes, on = \"state_fips\") #merge\n",
    "trump_clinton_votes['ratio'] = (trump_clinton_votes['candidatevotes_x'])/trump_clinton_votes['candidatevotes_y'] #ratio\n",
    "\n",
    "#vaccine data\n",
    "df_vaccine = df_vaccine[[\"STATE\",\"P_NUMVRC\"]]#get two useful columns\n",
    "df_no_vaccine = (df_vaccine [df_vaccine['P_NUMVRC'] == 0]\n",
    "                 .groupby([\"STATE\"])\n",
    "                 .size()\n",
    "                 .to_frame(\"count\")\n",
    "                 .reset_index()\n",
    "                 .rename(columns= {\"STATE\":\"state\", \"count\":\"no_vaccine\"})) #get no vaccine data\n",
    "df_yes_vaccine = (df_vaccine [df_vaccine['P_NUMVRC'] >= 1]\n",
    "                  .groupby([\"STATE\"])\n",
    "                  .size()\n",
    "                  .to_frame(\"count\")\n",
    "                  .reset_index()\n",
    "                  .rename(columns= {\"STATE\":\"state\", \"count\":\"yes_vaccine\"})) #get yes vaccine data\n",
    "merge_vaccine = pd.merge(df_no_vaccine,df_yes_vaccine , on = \"state\") #merge\n",
    "ratio_vaccine = merge_vaccine['yes_vaccine']/(( merge_vaccine['no_vaccine']))\n",
    "corr, pval=stats.pearsonr(trump_clinton_votes['ratio'],ratio_vaccine)\n",
    "corr"
   ]
  },
  {
   "cell_type": "code",
   "execution_count": null,
   "metadata": {},
   "outputs": [],
   "source": []
  }
 ],
 "metadata": {
  "celltoolbar": "Create Assignment",
  "kernelspec": {
   "display_name": "Python 3",
   "language": "python",
   "name": "python3"
  },
  "language_info": {
   "codemirror_mode": {
    "name": "ipython",
    "version": 3
   },
   "file_extension": ".py",
   "mimetype": "text/x-python",
   "name": "python",
   "nbconvert_exporter": "python",
   "pygments_lexer": "ipython3",
   "version": "3.6.4"
  }
 },
 "nbformat": 4,
 "nbformat_minor": 2
}
