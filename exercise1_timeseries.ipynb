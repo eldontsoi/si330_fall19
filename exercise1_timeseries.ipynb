{
 "cells": [
  {
   "cell_type": "markdown",
   "metadata": {},
   "source": [
    "# Exercise 1\n",
    "Given a dataset called run.csv which contains sensor data of my running over time, resample this dataset to\n",
    "one second resolution then plot a 5 minute rolling average of the heart rate data.\n",
    "\n",
    "*Only if you want to geek out: If you want a challenge, my answer was 119 characters long and one line. Can you come up with something smaller?*"
   ]
  },
  {
   "cell_type": "code",
   "execution_count": 11,
   "metadata": {},
   "outputs": [
    {
     "name": "stderr",
     "output_type": "stream",
     "text": [
      "/opt/conda/lib/python3.7/site-packages/ipykernel_launcher.py:16: FutureWarning: Currently, 'apply' passes the values as ndarrays to the applied function. In the future, this will change to passing it as Series objects. You need to specify 'raw=True' to keep the current behaviour, and you can pass 'raw=False' to silence this warning\n",
      "  app.launch_new_instance()\n"
     ]
    },
    {
     "data": {
      "text/plain": [
       "<matplotlib.axes._subplots.AxesSubplot at 0x7f3066f11b70>"
      ]
     },
     "execution_count": 11,
     "metadata": {},
     "output_type": "execute_result"
    },
    {
     "data": {
      "image/png": "[encoded data removed]",
      "text/plain": [
       "<Figure size 432x288 with 1 Axes>"
      ]
     },
     "metadata": {
      "needs_background": "light"
     },
     "output_type": "display_data"
    }
   ],
   "source": [
    "%matplotlib inline\n",
    "\n",
    "import pandas as pd\n",
    "import numpy as np\n",
    "df=pd.read_csv(\"datasets/run.csv\")\n",
    "#make timestamp the index\n",
    "#took out everything but heart rate\n",
    "#.head will get error after resampling\n",
    "#forward fill if 2 3 4 entries is NaN and 1 is 1, it will fill 234 with 1. \n",
    "#create rowlling window 5 60 minutes? -> number of values we want\n",
    "#if window = 3 min\n",
    "# it will show -2,\n",
    "    #forThisfunction, we are goind to run .apply\n",
    "    # to pass in this windows, how many data values,\n",
    "#if get many NaN just increase the sample size\n",
    "df.set_index(pd.to_datetime(df['timestamp']))['heart_rate'].resample(\"1S\").fillna(method=\"ffill\").rolling(10*60).apply(np.mean).plot()"
   ]
  },
  {
   "cell_type": "code",
   "execution_count": 4,
   "metadata": {},
   "outputs": [],
   "source": [
    "ts = pd.Series(np.arange(12), index=pd.date_range(start='2018/08/21', periods=12,freq='L'))"
   ]
  },
  {
   "cell_type": "code",
   "execution_count": 5,
   "metadata": {},
   "outputs": [
    {
     "data": {
      "text/plain": [
       "2018-08-21 00:00:00.000     0\n",
       "2018-08-21 00:00:00.001     1\n",
       "2018-08-21 00:00:00.002     2\n",
       "2018-08-21 00:00:00.003     3\n",
       "2018-08-21 00:00:00.004     4\n",
       "2018-08-21 00:00:00.005     5\n",
       "2018-08-21 00:00:00.006     6\n",
       "2018-08-21 00:00:00.007     7\n",
       "2018-08-21 00:00:00.008     8\n",
       "2018-08-21 00:00:00.009     9\n",
       "2018-08-21 00:00:00.010    10\n",
       "2018-08-21 00:00:00.011    11\n",
       "Freq: L, dtype: int64"
      ]
     },
     "execution_count": 5,
     "metadata": {},
     "output_type": "execute_result"
    }
   ],
   "source": [
    "ts"
   ]
  },
  {
   "cell_type": "code",
   "execution_count": null,
   "metadata": {},
   "outputs": [],
   "source": []
  }
 ],
 "metadata": {
  "kernelspec": {
   "display_name": "Python 3",
   "language": "python",
   "name": "python3"
  },
  "language_info": {
   "codemirror_mode": {
    "name": "ipython",
    "version": 3
   },
   "file_extension": ".py",
   "mimetype": "text/x-python",
   "name": "python",
   "nbconvert_exporter": "python",
   "pygments_lexer": "ipython3",
   "version": "3.7.3"
  }
 },
 "nbformat": 4,
 "nbformat_minor": 2
}
