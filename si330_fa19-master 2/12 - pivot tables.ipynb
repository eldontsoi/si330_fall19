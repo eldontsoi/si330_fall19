{
 "cells": [
  {
   "cell_type": "markdown",
   "metadata": {
    "slideshow": {
     "slide_type": "slide"
    }
   },
   "source": [
    "# Pivot tables\n",
    "* A pivot table is itself a DataFrame, which compares two groups on some shared columns, thus:\n",
    "  1. the rows represent one variable that you're interested in\n",
    "  2. the columns another variables, and \n",
    "  3. the cell content is some *aggregate* value of a third column \n",
    "* Often a pivot table includes marginal values as well, which are comparisons across multiple groups (more in a minute)"
   ]
  },
  {
   "cell_type": "code",
   "execution_count": null,
   "metadata": {},
   "outputs": [],
   "source": [
    "# Here we have the Times Higher Education World University Ranking dataset\n",
    "import pandas as pd\n",
    "import numpy as np\n",
    "df = pd.read_csv('datasets/cwurData.csv')\n",
    "df.head()"
   ]
  },
  {
   "cell_type": "code",
   "execution_count": null,
   "metadata": {
    "slideshow": {
     "slide_type": "slide"
    }
   },
   "outputs": [],
   "source": [
    "# Let's say we want to create a new column called *Rank_Level*, where institutions with world ranking 1-100 are\n",
    "# categorized as *first tier* and those with world ranking 101 - 200 are *second tier*, ranking 201 - 300 are\n",
    "# *third tier*, after 301 is *other* top universities.\n",
    "\n",
    "# You do that. Now. Please."
   ]
  },
  {
   "cell_type": "code",
   "execution_count": null,
   "metadata": {},
   "outputs": [],
   "source": [
    "keys=!cat keys\n",
    "solution=b'gAAAAABdnQLb4V0Rp5lr7EMwPYd-bwm00S7HMoxUlXWqApRUt6b7PXylS6QyuqWKrB5fKunlfnThvDlHVui1ft0pT1YMBWEYLAhHDkDh8AEvik32n9umOGycF6AaCT2X6mSDuE_fOsYJgXAW9L6H4tFUVQ1e8zBTNhtqydl-VL1fW7Vs_2XU_nyNqKKwsxlBoRFKGiVwK7e5s_pJhoYZUtP00XFQcdqpGf38FJCsty-2vC5Yl-R_CM4UpCjwjwGKaLm0ymDIe4qOHLoa-ATCM_Amp-Yh62XYb2zpwaf_3a72DHxr6fkyoiAuMuKsmNPRJZFOSMr13iYfedd93gW4vvQtgvdDe6-hlhJpjSLDnYiLL4eSO3cLTA0RyXpDJRPPdfFd9EK1bVw5qP3MbbQUh6NnqQVsQUN1j-fnUHCzOp1qSqvfGqznDXCAblVQwYa4t_IbLelnXBJBMWrQ-2wsHkwxyk2gLdEyvz6nCWmeJbNcoHZ0XebRHLY61QS0EerjBgm62yOGkj1smsOrb0FIVCtvvlnInx6i8_KID1KzgfOg3L3uTqc-HGb5t_tXfdr1blF0NWE6PRI-4OTpN8dnpZGRk_DjkwlBXJNLlcba12iap-hwEFemdPtzcfnmHcdrvvZDDuxAcLaNL8xKK2tgVayXiQR0Q-NgxWS5cpYrO-EziE3DfiQ5ZZ2FUyVsWEChxeRgCamy1_jOpTL4K78OHPTazdjwhfJa3P-BA1m9w4pnP5SbcWC-PJY17FfDl-CTZcjb4ZQYxpXy-vZYq9T9USUt9qdc32cCIehfgTfNuZkHcZdEB1ekr2-A13gDv1bc-ZJm0pXI6Dxw4Zrhytt5qEg7zsRfMJZgRmagBrh7vvEF60BdfdYefg91wWgr9nXbQVy2oGc6BmR4DLfU5lvPCImYujUzK-1FAeWffv4ZYjmHu038PCyR-lYHSI7cTNbPDaXJZ1BM6VPYSjHaxQORE7CUp1n-SprvCVDC9ah0PkhFhqfevE1RQoryqOKEocxsQet22571smKssZJuC3iaqAWikkm92atL_rkgIqxjH77kKvmHn_Oe3HemY3zeU0OrMq-X8i-a4aj37z8o8PGm-yPqhCFqZSsLrbaLpp0Pxx8bMLkgNzGd0zLg68Vm6aovUEgvyBezRQvI3Sh_Hth3maxFvjIvmP1uCU20MX1iYk8V8Az99Ar8HJe5-jolrvkD5p1cZKowjydO'\n",
    "print(Fernet(keys[0]).decrypt(solution).decode('utf8'))"
   ]
  },
  {
   "cell_type": "markdown",
   "metadata": {
    "slideshow": {
     "slide_type": "slide"
    }
   },
   "source": [
    "* Let's pivot! We need two columns, let's say the *country* and our *rank level* these will become our new rows (index)/columns (labels)\n",
    "* Now we need one column of interest for the cell value, let's use the *score*\n",
    "* Then we need on aggregation function, which we'll apply to *score* let's use `np.mean`"
   ]
  },
  {
   "cell_type": "markdown",
   "metadata": {
    "slideshow": {
     "slide_type": "subslide"
    }
   },
   "source": [
    "* essentially this means we're comparing two groups, \"Countries\" vs. \"Rank Level\" with respect to score using an average. Think for a moment how you might tackle this with group by"
   ]
  },
  {
   "cell_type": "code",
   "execution_count": null,
   "metadata": {
    "slideshow": {
     "slide_type": "slide"
    }
   },
   "outputs": [],
   "source": [
    "df.pivot_table(values='score', index='country', columns='Rank_Level', aggfunc=[np.mean]).head()"
   ]
  },
  {
   "cell_type": "markdown",
   "metadata": {
    "slideshow": {
     "slide_type": "slide"
    }
   },
   "source": [
    "* we notice that there are some NaN values, e.g. Argentia has only observations in the \"Other Top Unversities\" category"
   ]
  },
  {
   "cell_type": "markdown",
   "metadata": {
    "slideshow": {
     "slide_type": "subslide"
    }
   },
   "source": [
    "* pivot tables aren't limited to one aggregation! We could use multiple functions and see those results with heirarchical column labels"
   ]
  },
  {
   "cell_type": "code",
   "execution_count": null,
   "metadata": {
    "slideshow": {
     "slide_type": "slide"
    }
   },
   "outputs": [],
   "source": [
    "df.pivot_table(values='score', index='country', columns='Rank_Level', aggfunc=[np.mean, np.max]).head()"
   ]
  },
  {
   "cell_type": "code",
   "execution_count": null,
   "metadata": {
    "slideshow": {
     "slide_type": "slide"
    }
   },
   "outputs": [],
   "source": [
    "# we can also provide those marginal values\n",
    "df.pivot_table(values='score', index='country', columns='Rank_Level', aggfunc=[np.mean, np.max], \n",
    "               margins=True).head()"
   ]
  },
  {
   "cell_type": "code",
   "execution_count": null,
   "metadata": {
    "slideshow": {
     "slide_type": "slide"
    }
   },
   "outputs": [],
   "source": [
    "# A pivot table is just a multi-level dataframe\n",
    "new_df=df.pivot_table(values='score', index='country', columns='Rank_Level', aggfunc=[np.mean, np.max], \n",
    "               margins=True)\n",
    "# Now let's look at the index\n",
    "print(new_df.index)\n",
    "# And let's look at the columns\n",
    "print(new_df.columns)"
   ]
  },
  {
   "cell_type": "code",
   "execution_count": null,
   "metadata": {
    "slideshow": {
     "slide_type": "slide"
    }
   },
   "outputs": [],
   "source": [
    "# How would we query this if we want to get the average scores of First Tier Top Unversity levels \n",
    "# You do that. Now. Please."
   ]
  },
  {
   "cell_type": "code",
   "execution_count": null,
   "metadata": {
    "slideshow": {
     "slide_type": "subslide"
    }
   },
   "outputs": [],
   "source": [
    "solution=b'gAAAAABdnQNeM8Yyj_dEL7dNHhVwc81cg8Wm8H4L8SghfzKbpthfIF74IfkBR3tr3e09P9_bY9O7EWd7JNfaCZthix_Nezskf3_0MEMTDjxT0g4BcD8YHLshWFO5dae8TnlAebpR_88H4YxZM-mzVqSIrqtp5K4LMg=='\n",
    "keys=!cat keys\n",
    "print(Fernet(keys[0]).decrypt(solution).decode('utf8'))"
   ]
  },
  {
   "cell_type": "markdown",
   "metadata": {
    "slideshow": {
     "slide_type": "slide"
    }
   },
   "source": [
    "* Let's get weird. We can `stack` and `unstack` columns in our dataframe.\n",
    "* `stack` takes pivots the lowermost column index to become the innermost row index. unstack is the inverse\n",
    "* let's look back at that pivot table..."
   ]
  },
  {
   "cell_type": "code",
   "execution_count": null,
   "metadata": {
    "slideshow": {
     "slide_type": "subslide"
    }
   },
   "outputs": [],
   "source": [
    "new_df.head() #we want to take the tier of uni and move it to a row index, so we are stacking...."
   ]
  },
  {
   "cell_type": "code",
   "execution_count": null,
   "metadata": {
    "slideshow": {
     "slide_type": "slide"
    }
   },
   "outputs": [],
   "source": [
    "new_df.stack().head()"
   ]
  },
  {
   "cell_type": "code",
   "execution_count": null,
   "metadata": {
    "slideshow": {
     "slide_type": "slide"
    }
   },
   "outputs": [],
   "source": [
    "# It can get complex! You are just comparing two groups and a value (or multiple values in this case!)\n",
    "# we can unstack() all the way if we want to, which means move a row index into a column index\n",
    "new_df.head() #let's pivot rank_level now into the column, what shape do you think this will create?"
   ]
  },
  {
   "cell_type": "code",
   "execution_count": null,
   "metadata": {
    "slideshow": {
     "slide_type": "slide"
    }
   },
   "outputs": [],
   "source": [
    "new_df.unstack().head(10)"
   ]
  },
  {
   "cell_type": "markdown",
   "metadata": {
    "slideshow": {
     "slide_type": "slide"
    }
   },
   "source": [
    "* Remember, you can pass any function you want to the aggregate function, including those that you define yourself!"
   ]
  }
 ],
 "metadata": {
  "celltoolbar": "Slideshow",
  "kernelspec": {
   "display_name": "Python 3",
   "language": "python",
   "name": "python3"
  },
  "language_info": {
   "codemirror_mode": {
    "name": "ipython",
    "version": 3
   },
   "file_extension": ".py",
   "mimetype": "text/x-python",
   "name": "python",
   "nbconvert_exporter": "python",
   "pygments_lexer": "ipython3",
   "version": "3.6.4"
  }
 },
 "nbformat": 4,
 "nbformat_minor": 2
}
