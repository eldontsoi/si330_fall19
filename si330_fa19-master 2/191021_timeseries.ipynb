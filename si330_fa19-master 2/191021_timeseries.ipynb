{
 "cells": [
  {
   "cell_type": "markdown",
   "metadata": {
    "slideshow": {
     "slide_type": "slide"
    }
   },
   "source": [
    "# Time Series Data\n",
    "* We've already seen pandas can handle date/time formats\n",
    "* Time series data adds new manipulation options to our data, and pandas was actually developed with time series data in mind."
   ]
  },
  {
   "cell_type": "markdown",
   "metadata": {
    "slideshow": {
     "slide_type": "slide"
    }
   },
   "source": [
    "## Resampling \n",
    "* the process of converting a time series from one frequency to another.\n",
    "  * downsampling: going from a high frequency (e.g. daily) to a lower frequency (e.g. weekly)\n",
    "  * upsampling: going from a lower frequency to higher frequency\n",
    "  * remapping: aligning data to a set frequency (e.g. mapping weekly data to sundays)"
   ]
  },
  {
   "cell_type": "code",
   "execution_count": 2,
   "metadata": {
    "slideshow": {
     "slide_type": "slide"
    }
   },
   "outputs": [
    {
     "data": {
      "text/plain": [
       "2018-01-01    0.077096\n",
       "2018-01-02    0.696615\n",
       "2018-01-03   -1.157121\n",
       "2018-01-04   -1.116528\n",
       "2018-01-05    0.632130\n",
       "Freq: D, dtype: float64"
      ]
     },
     "execution_count": 2,
     "metadata": {},
     "output_type": "execute_result"
    }
   ],
   "source": [
    "import pandas as pd\n",
    "import numpy as np\n",
    "import matplotlib.pyplot as plt\n",
    "\n",
    "# We can create date ranges with\n",
    "pd.date_range?"
   ]
  },
  {
   "cell_type": "code",
   "execution_count": 4,
   "metadata": {
    "slideshow": {
     "slide_type": "subslide"
    }
   },
   "outputs": [
    {
     "data": {
      "text/plain": [
       "2018-01-01   -1.502781\n",
       "2018-01-02    0.254105\n",
       "2018-01-03   -0.802045\n",
       "2018-01-04    0.032891\n",
       "2018-01-05    0.006677\n",
       "Freq: D, dtype: float64"
      ]
     },
     "execution_count": 4,
     "metadata": {},
     "output_type": "execute_result"
    }
   ],
   "source": [
    "# Some sample data\n",
    "dates = pd.date_range(start='1/1/2018', end='05/31/2018')\n",
    "ts = pd.Series(np.random.randn(len(dates)), index=dates)\n",
    "ts.head()"
   ]
  },
  {
   "cell_type": "code",
   "execution_count": 7,
   "metadata": {
    "slideshow": {
     "slide_type": "slide"
    }
   },
   "outputs": [
    {
     "data": {
      "text/plain": [
       "<pandas.core.resample.DatetimeIndexResampler object at 0x7f10ca509978>"
      ]
     },
     "execution_count": 7,
     "metadata": {},
     "output_type": "execute_result"
    }
   ],
   "source": [
    "# You need a date or time index on your dataframe to do some resampling\n",
    "# When we resample we need to determine the new frequency we want and how we want to resample\n",
    "# Let's change our daily data down to weekly data\n",
    "resampler=ts.resample('W')\n",
    "resampler"
   ]
  },
  {
   "cell_type": "code",
   "execution_count": 9,
   "metadata": {
    "slideshow": {
     "slide_type": "subslide"
    }
   },
   "outputs": [
    {
     "data": {
      "text/plain": [
       "2018-01-07   -0.319515\n",
       "2018-01-14   -0.087015\n",
       "2018-01-21    0.249618\n",
       "2018-01-28    0.231306\n",
       "2018-02-04   -0.055066\n",
       "Freq: W-SUN, dtype: float64"
      ]
     },
     "execution_count": 9,
     "metadata": {},
     "output_type": "execute_result"
    }
   ],
   "source": [
    "# Just like groupby, this is an object which will do the resampling for us\n",
    "# Since we are downsampling (D->W) we need to decide how to aggregate our datapoints\n",
    "# We are now very used to this!\n",
    "resampler.apply(np.mean).head()"
   ]
  },
  {
   "cell_type": "markdown",
   "metadata": {
    "slideshow": {
     "slide_type": "slide"
    }
   },
   "source": [
    "* Notice the frequency is now W-SUN (weekly beginning on sunday)\n",
    "* When we downsample we are \"binning\" our values and need to determine which end of the bin is open/closed\n",
    "* By default the right side is closed for weekly binning, which we did here\n",
    "* Let's look at an example using minute data\n"
   ]
  },
  {
   "cell_type": "code",
   "execution_count": 14,
   "metadata": {
    "slideshow": {
     "slide_type": "slide"
    }
   },
   "outputs": [
    {
     "data": {
      "text/plain": [
       "2018-01-01 00:00:00    0\n",
       "2018-01-01 00:01:00    1\n",
       "2018-01-01 00:02:00    2\n",
       "2018-01-01 00:03:00    3\n",
       "2018-01-01 00:04:00    4\n",
       "Freq: T, dtype: int64"
      ]
     },
     "execution_count": 14,
     "metadata": {},
     "output_type": "execute_result"
    }
   ],
   "source": [
    "ts = pd.Series(np.arange(12), index=pd.date_range(start='1/1/2018', periods=12,freq='T'))\n",
    "ts.head()"
   ]
  },
  {
   "cell_type": "code",
   "execution_count": 18,
   "metadata": {
    "slideshow": {
     "slide_type": "subslide"
    }
   },
   "outputs": [
    {
     "data": {
      "text/plain": [
       "2018-01-01 00:00:00    10\n",
       "2018-01-01 00:05:00    35\n",
       "2018-01-01 00:10:00    21\n",
       "Freq: 5T, dtype: int64"
      ]
     },
     "execution_count": 18,
     "metadata": {},
     "output_type": "execute_result"
    }
   ],
   "source": [
    "ts.resample(\"5min\", closed='left').apply(np.sum)"
   ]
  },
  {
   "cell_type": "code",
   "execution_count": 19,
   "metadata": {
    "slideshow": {
     "slide_type": "slide"
    }
   },
   "outputs": [
    {
     "data": {
      "text/plain": [
       "2017-12-31 23:55:00     0\n",
       "2018-01-01 00:00:00    15\n",
       "2018-01-01 00:05:00    40\n",
       "2018-01-01 00:10:00    11\n",
       "Freq: 5T, dtype: int64"
      ]
     },
     "execution_count": 19,
     "metadata": {},
     "output_type": "execute_result"
    }
   ],
   "source": [
    "ts.resample(\"5min\", closed='right').apply(np.sum)"
   ]
  },
  {
   "cell_type": "code",
   "execution_count": 31,
   "metadata": {
    "slideshow": {
     "slide_type": "subslide"
    }
   },
   "outputs": [
    {
     "data": {
      "text/html": [
       "<div>\n",
       "<style scoped>\n",
       "    .dataframe tbody tr th:only-of-type {\n",
       "        vertical-align: middle;\n",
       "    }\n",
       "\n",
       "    .dataframe tbody tr th {\n",
       "        vertical-align: top;\n",
       "    }\n",
       "\n",
       "    .dataframe thead th {\n",
       "        text-align: right;\n",
       "    }\n",
       "</style>\n",
       "<table border=\"1\" class=\"dataframe\">\n",
       "  <thead>\n",
       "    <tr style=\"text-align: right;\">\n",
       "      <th></th>\n",
       "      <th>mean</th>\n",
       "      <th>max</th>\n",
       "    </tr>\n",
       "  </thead>\n",
       "  <tbody>\n",
       "    <tr>\n",
       "      <th>2018-01-01 00:00:00</th>\n",
       "      <td>0.5</td>\n",
       "      <td>1.0</td>\n",
       "    </tr>\n",
       "    <tr>\n",
       "      <th>2018-01-01 00:02:00</th>\n",
       "      <td>2.5</td>\n",
       "      <td>3.0</td>\n",
       "    </tr>\n",
       "    <tr>\n",
       "      <th>2018-01-01 00:04:00</th>\n",
       "      <td>4.5</td>\n",
       "      <td>5.0</td>\n",
       "    </tr>\n",
       "    <tr>\n",
       "      <th>2018-01-01 00:06:00</th>\n",
       "      <td>6.5</td>\n",
       "      <td>7.0</td>\n",
       "    </tr>\n",
       "    <tr>\n",
       "      <th>2018-01-01 00:08:00</th>\n",
       "      <td>8.5</td>\n",
       "      <td>9.0</td>\n",
       "    </tr>\n",
       "    <tr>\n",
       "      <th>2018-01-01 00:10:00</th>\n",
       "      <td>10.5</td>\n",
       "      <td>11.0</td>\n",
       "    </tr>\n",
       "  </tbody>\n",
       "</table>\n",
       "</div>"
      ],
      "text/plain": [
       "                     mean   max\n",
       "2018-01-01 00:00:00   0.5   1.0\n",
       "2018-01-01 00:02:00   2.5   3.0\n",
       "2018-01-01 00:04:00   4.5   5.0\n",
       "2018-01-01 00:06:00   6.5   7.0\n",
       "2018-01-01 00:08:00   8.5   9.0\n",
       "2018-01-01 00:10:00  10.5  11.0"
      ]
     },
     "execution_count": 31,
     "metadata": {},
     "output_type": "execute_result"
    }
   ],
   "source": [
    "# Also, downresampling really is an aggregation exercise, so you can do all sorts of things\n",
    "# What do you think this does in real language?\n",
    "ts.resample('2min').apply(lambda x: pd.Series({\"mean\":np.mean(x),\"max\":np.max(x)})).unstack()"
   ]
  },
  {
   "cell_type": "code",
   "execution_count": 69,
   "metadata": {
    "slideshow": {
     "slide_type": "slide"
    }
   },
   "outputs": [
    {
     "data": {
      "text/html": [
       "<div>\n",
       "<style scoped>\n",
       "    .dataframe tbody tr th:only-of-type {\n",
       "        vertical-align: middle;\n",
       "    }\n",
       "\n",
       "    .dataframe tbody tr th {\n",
       "        vertical-align: top;\n",
       "    }\n",
       "\n",
       "    .dataframe thead th {\n",
       "        text-align: right;\n",
       "    }\n",
       "</style>\n",
       "<table border=\"1\" class=\"dataframe\">\n",
       "  <thead>\n",
       "    <tr style=\"text-align: right;\">\n",
       "      <th></th>\n",
       "      <th>time</th>\n",
       "      <th>usr</th>\n",
       "      <th>sys</th>\n",
       "      <th>idl</th>\n",
       "      <th>wai</th>\n",
       "      <th>hiq</th>\n",
       "      <th>siq</th>\n",
       "    </tr>\n",
       "    <tr>\n",
       "      <th>time</th>\n",
       "      <th></th>\n",
       "      <th></th>\n",
       "      <th></th>\n",
       "      <th></th>\n",
       "      <th></th>\n",
       "      <th></th>\n",
       "      <th></th>\n",
       "    </tr>\n",
       "  </thead>\n",
       "  <tbody>\n",
       "    <tr>\n",
       "      <th>2019-10-19 16:19:07</th>\n",
       "      <td>19-10 16:19:07</td>\n",
       "      <td>4.034</td>\n",
       "      <td>0.688</td>\n",
       "      <td>95.131</td>\n",
       "      <td>0.138</td>\n",
       "      <td>0.0</td>\n",
       "      <td>0.008</td>\n",
       "    </tr>\n",
       "    <tr>\n",
       "      <th>2019-10-19 16:19:08</th>\n",
       "      <td>19-10 16:19:08</td>\n",
       "      <td>0.754</td>\n",
       "      <td>0.251</td>\n",
       "      <td>98.995</td>\n",
       "      <td>0.000</td>\n",
       "      <td>0.0</td>\n",
       "      <td>0.000</td>\n",
       "    </tr>\n",
       "    <tr>\n",
       "      <th>2019-10-19 16:19:09</th>\n",
       "      <td>19-10 16:19:09</td>\n",
       "      <td>7.955</td>\n",
       "      <td>0.505</td>\n",
       "      <td>91.288</td>\n",
       "      <td>0.253</td>\n",
       "      <td>0.0</td>\n",
       "      <td>0.000</td>\n",
       "    </tr>\n",
       "    <tr>\n",
       "      <th>2019-10-19 16:19:10</th>\n",
       "      <td>19-10 16:19:10</td>\n",
       "      <td>21.717</td>\n",
       "      <td>4.545</td>\n",
       "      <td>61.364</td>\n",
       "      <td>12.121</td>\n",
       "      <td>0.0</td>\n",
       "      <td>0.253</td>\n",
       "    </tr>\n",
       "    <tr>\n",
       "      <th>2019-10-19 16:19:11</th>\n",
       "      <td>19-10 16:19:11</td>\n",
       "      <td>5.675</td>\n",
       "      <td>3.909</td>\n",
       "      <td>78.815</td>\n",
       "      <td>11.475</td>\n",
       "      <td>0.0</td>\n",
       "      <td>0.126</td>\n",
       "    </tr>\n",
       "  </tbody>\n",
       "</table>\n",
       "</div>"
      ],
      "text/plain": [
       "                               time     usr    sys     idl     wai  hiq    siq\n",
       "time                                                                          \n",
       "2019-10-19 16:19:07  19-10 16:19:07   4.034  0.688  95.131   0.138  0.0  0.008\n",
       "2019-10-19 16:19:08  19-10 16:19:08   0.754  0.251  98.995   0.000  0.0  0.000\n",
       "2019-10-19 16:19:09  19-10 16:19:09   7.955  0.505  91.288   0.253  0.0  0.000\n",
       "2019-10-19 16:19:10  19-10 16:19:10  21.717  4.545  61.364  12.121  0.0  0.253\n",
       "2019-10-19 16:19:11  19-10 16:19:11   5.675  3.909  78.815  11.475  0.0  0.126"
      ]
     },
     "execution_count": 69,
     "metadata": {},
     "output_type": "execute_result"
    }
   ],
   "source": [
    "df.head()"
   ]
  },
  {
   "cell_type": "code",
   "execution_count": 72,
   "metadata": {
    "slideshow": {
     "slide_type": "slide"
    }
   },
   "outputs": [
    {
     "data": {
      "text/html": [
       "<div>\n",
       "<style scoped>\n",
       "    .dataframe tbody tr th:only-of-type {\n",
       "        vertical-align: middle;\n",
       "    }\n",
       "\n",
       "    .dataframe tbody tr th {\n",
       "        vertical-align: top;\n",
       "    }\n",
       "\n",
       "    .dataframe thead th {\n",
       "        text-align: right;\n",
       "    }\n",
       "</style>\n",
       "<table border=\"1\" class=\"dataframe\">\n",
       "  <thead>\n",
       "    <tr style=\"text-align: right;\">\n",
       "      <th></th>\n",
       "      <th>mean</th>\n",
       "      <th>std</th>\n",
       "    </tr>\n",
       "    <tr>\n",
       "      <th>time</th>\n",
       "      <th></th>\n",
       "      <th></th>\n",
       "    </tr>\n",
       "  </thead>\n",
       "  <tbody>\n",
       "    <tr>\n",
       "      <th>2019-10-19 16:19:05</th>\n",
       "      <td>95.1380</td>\n",
       "      <td>3.146373</td>\n",
       "    </tr>\n",
       "    <tr>\n",
       "      <th>2019-10-19 16:19:10</th>\n",
       "      <td>72.5958</td>\n",
       "      <td>5.961332</td>\n",
       "    </tr>\n",
       "    <tr>\n",
       "      <th>2019-10-19 16:19:15</th>\n",
       "      <td>86.6974</td>\n",
       "      <td>6.369460</td>\n",
       "    </tr>\n",
       "    <tr>\n",
       "      <th>2019-10-19 16:19:20</th>\n",
       "      <td>85.7178</td>\n",
       "      <td>5.432176</td>\n",
       "    </tr>\n",
       "    <tr>\n",
       "      <th>2019-10-19 16:19:25</th>\n",
       "      <td>81.6432</td>\n",
       "      <td>7.651377</td>\n",
       "    </tr>\n",
       "    <tr>\n",
       "      <th>2019-10-19 16:19:30</th>\n",
       "      <td>93.0062</td>\n",
       "      <td>3.183883</td>\n",
       "    </tr>\n",
       "    <tr>\n",
       "      <th>2019-10-19 16:19:35</th>\n",
       "      <td>96.7136</td>\n",
       "      <td>1.058977</td>\n",
       "    </tr>\n",
       "    <tr>\n",
       "      <th>2019-10-19 16:19:40</th>\n",
       "      <td>91.8480</td>\n",
       "      <td>5.700882</td>\n",
       "    </tr>\n",
       "    <tr>\n",
       "      <th>2019-10-19 16:19:45</th>\n",
       "      <td>92.6942</td>\n",
       "      <td>3.225499</td>\n",
       "    </tr>\n",
       "    <tr>\n",
       "      <th>2019-10-19 16:19:50</th>\n",
       "      <td>90.8910</td>\n",
       "      <td>5.185680</td>\n",
       "    </tr>\n",
       "    <tr>\n",
       "      <th>2019-10-19 16:19:55</th>\n",
       "      <td>94.9924</td>\n",
       "      <td>1.573542</td>\n",
       "    </tr>\n",
       "  </tbody>\n",
       "</table>\n",
       "</div>"
      ],
      "text/plain": [
       "                        mean       std\n",
       "time                                  \n",
       "2019-10-19 16:19:05  95.1380  3.146373\n",
       "2019-10-19 16:19:10  72.5958  5.961332\n",
       "2019-10-19 16:19:15  86.6974  6.369460\n",
       "2019-10-19 16:19:20  85.7178  5.432176\n",
       "2019-10-19 16:19:25  81.6432  7.651377\n",
       "2019-10-19 16:19:30  93.0062  3.183883\n",
       "2019-10-19 16:19:35  96.7136  1.058977\n",
       "2019-10-19 16:19:40  91.8480  5.700882\n",
       "2019-10-19 16:19:45  92.6942  3.225499\n",
       "2019-10-19 16:19:50  90.8910  5.185680\n",
       "2019-10-19 16:19:55  94.9924  1.573542"
      ]
     },
     "execution_count": 72,
     "metadata": {},
     "output_type": "execute_result"
    }
   ],
   "source": [
    "# Inline assignment!\n",
    "df=pd.read_csv('dstat_si330.csv',skiprows=6)\n",
    "df=df.set_index(pd.DatetimeIndex(pd.to_datetime(df[\"time\"].apply(lambda x: x[6:]))))\n",
    "# Generate me a dataframe which shows the 5 second averages and standard deviations of the idl (CPU idle) time\n",
    "\n",
    "# ten mins?"
   ]
  },
  {
   "cell_type": "code",
   "execution_count": 73,
   "metadata": {
    "slideshow": {
     "slide_type": "slide"
    }
   },
   "outputs": [
    {
     "data": {
      "text/html": [
       "<div>\n",
       "<style scoped>\n",
       "    .dataframe tbody tr th:only-of-type {\n",
       "        vertical-align: middle;\n",
       "    }\n",
       "\n",
       "    .dataframe tbody tr th {\n",
       "        vertical-align: top;\n",
       "    }\n",
       "\n",
       "    .dataframe thead th {\n",
       "        text-align: right;\n",
       "    }\n",
       "</style>\n",
       "<table border=\"1\" class=\"dataframe\">\n",
       "  <thead>\n",
       "    <tr style=\"text-align: right;\">\n",
       "      <th></th>\n",
       "      <th>col1</th>\n",
       "      <th>col2</th>\n",
       "      <th>col3</th>\n",
       "      <th>col4</th>\n",
       "    </tr>\n",
       "  </thead>\n",
       "  <tbody>\n",
       "    <tr>\n",
       "      <th>2018-01-07</th>\n",
       "      <td>2.060465</td>\n",
       "      <td>1.702496</td>\n",
       "      <td>1.370201</td>\n",
       "      <td>1.067547</td>\n",
       "    </tr>\n",
       "    <tr>\n",
       "      <th>2018-01-14</th>\n",
       "      <td>1.117917</td>\n",
       "      <td>0.282558</td>\n",
       "      <td>-0.266234</td>\n",
       "      <td>-0.568707</td>\n",
       "    </tr>\n",
       "  </tbody>\n",
       "</table>\n",
       "</div>"
      ],
      "text/plain": [
       "                col1      col2      col3      col4\n",
       "2018-01-07  2.060465  1.702496  1.370201  1.067547\n",
       "2018-01-14  1.117917  0.282558 -0.266234 -0.568707"
      ]
     },
     "execution_count": 73,
     "metadata": {},
     "output_type": "execute_result"
    }
   ],
   "source": [
    "# With upsampling there is no need to aggregate. \n",
    "\n",
    "# let's create a dataframe, with two weekly indices, and four columns. First the indicies\n",
    "dates = pd.date_range(start='1/1/2018', periods=2, freq='W')\n",
    "# now let's fill in the DataFrame\n",
    "df = pd.DataFrame(np.random.randn(2,4), index=dates, \n",
    "                  columns=['col1','col2','col3','col4'])\n",
    "df.head()"
   ]
  },
  {
   "cell_type": "code",
   "execution_count": 74,
   "metadata": {
    "slideshow": {
     "slide_type": "subslide"
    }
   },
   "outputs": [
    {
     "data": {
      "text/html": [
       "<div>\n",
       "<style scoped>\n",
       "    .dataframe tbody tr th:only-of-type {\n",
       "        vertical-align: middle;\n",
       "    }\n",
       "\n",
       "    .dataframe tbody tr th {\n",
       "        vertical-align: top;\n",
       "    }\n",
       "\n",
       "    .dataframe thead th {\n",
       "        text-align: right;\n",
       "    }\n",
       "</style>\n",
       "<table border=\"1\" class=\"dataframe\">\n",
       "  <thead>\n",
       "    <tr style=\"text-align: right;\">\n",
       "      <th></th>\n",
       "      <th>col1</th>\n",
       "      <th>col2</th>\n",
       "      <th>col3</th>\n",
       "      <th>col4</th>\n",
       "    </tr>\n",
       "  </thead>\n",
       "  <tbody>\n",
       "    <tr>\n",
       "      <th>2018-01-07</th>\n",
       "      <td>2.060465</td>\n",
       "      <td>1.702496</td>\n",
       "      <td>1.370201</td>\n",
       "      <td>1.067547</td>\n",
       "    </tr>\n",
       "    <tr>\n",
       "      <th>2018-01-08</th>\n",
       "      <td>NaN</td>\n",
       "      <td>NaN</td>\n",
       "      <td>NaN</td>\n",
       "      <td>NaN</td>\n",
       "    </tr>\n",
       "    <tr>\n",
       "      <th>2018-01-09</th>\n",
       "      <td>NaN</td>\n",
       "      <td>NaN</td>\n",
       "      <td>NaN</td>\n",
       "      <td>NaN</td>\n",
       "    </tr>\n",
       "    <tr>\n",
       "      <th>2018-01-10</th>\n",
       "      <td>NaN</td>\n",
       "      <td>NaN</td>\n",
       "      <td>NaN</td>\n",
       "      <td>NaN</td>\n",
       "    </tr>\n",
       "    <tr>\n",
       "      <th>2018-01-11</th>\n",
       "      <td>NaN</td>\n",
       "      <td>NaN</td>\n",
       "      <td>NaN</td>\n",
       "      <td>NaN</td>\n",
       "    </tr>\n",
       "  </tbody>\n",
       "</table>\n",
       "</div>"
      ],
      "text/plain": [
       "                col1      col2      col3      col4\n",
       "2018-01-07  2.060465  1.702496  1.370201  1.067547\n",
       "2018-01-08       NaN       NaN       NaN       NaN\n",
       "2018-01-09       NaN       NaN       NaN       NaN\n",
       "2018-01-10       NaN       NaN       NaN       NaN\n",
       "2018-01-11       NaN       NaN       NaN       NaN"
      ]
     },
     "execution_count": 74,
     "metadata": {},
     "output_type": "execute_result"
    }
   ],
   "source": [
    "# Now we upsample from weekly frequency to daily frequency,\n",
    "df_daily = df.resample('D').asfreq()\n",
    "df_daily.head()"
   ]
  },
  {
   "cell_type": "code",
   "execution_count": 75,
   "metadata": {
    "slideshow": {
     "slide_type": "slide"
    }
   },
   "outputs": [
    {
     "data": {
      "text/html": [
       "<div>\n",
       "<style scoped>\n",
       "    .dataframe tbody tr th:only-of-type {\n",
       "        vertical-align: middle;\n",
       "    }\n",
       "\n",
       "    .dataframe tbody tr th {\n",
       "        vertical-align: top;\n",
       "    }\n",
       "\n",
       "    .dataframe thead th {\n",
       "        text-align: right;\n",
       "    }\n",
       "</style>\n",
       "<table border=\"1\" class=\"dataframe\">\n",
       "  <thead>\n",
       "    <tr style=\"text-align: right;\">\n",
       "      <th></th>\n",
       "      <th>col1</th>\n",
       "      <th>col2</th>\n",
       "      <th>col3</th>\n",
       "      <th>col4</th>\n",
       "    </tr>\n",
       "  </thead>\n",
       "  <tbody>\n",
       "    <tr>\n",
       "      <th>2018-01-07</th>\n",
       "      <td>2.060465</td>\n",
       "      <td>1.702496</td>\n",
       "      <td>1.370201</td>\n",
       "      <td>1.067547</td>\n",
       "    </tr>\n",
       "    <tr>\n",
       "      <th>2018-01-08</th>\n",
       "      <td>2.060465</td>\n",
       "      <td>1.702496</td>\n",
       "      <td>1.370201</td>\n",
       "      <td>1.067547</td>\n",
       "    </tr>\n",
       "    <tr>\n",
       "      <th>2018-01-09</th>\n",
       "      <td>2.060465</td>\n",
       "      <td>1.702496</td>\n",
       "      <td>1.370201</td>\n",
       "      <td>1.067547</td>\n",
       "    </tr>\n",
       "    <tr>\n",
       "      <th>2018-01-10</th>\n",
       "      <td>2.060465</td>\n",
       "      <td>1.702496</td>\n",
       "      <td>1.370201</td>\n",
       "      <td>1.067547</td>\n",
       "    </tr>\n",
       "    <tr>\n",
       "      <th>2018-01-11</th>\n",
       "      <td>2.060465</td>\n",
       "      <td>1.702496</td>\n",
       "      <td>1.370201</td>\n",
       "      <td>1.067547</td>\n",
       "    </tr>\n",
       "    <tr>\n",
       "      <th>2018-01-12</th>\n",
       "      <td>2.060465</td>\n",
       "      <td>1.702496</td>\n",
       "      <td>1.370201</td>\n",
       "      <td>1.067547</td>\n",
       "    </tr>\n",
       "    <tr>\n",
       "      <th>2018-01-13</th>\n",
       "      <td>2.060465</td>\n",
       "      <td>1.702496</td>\n",
       "      <td>1.370201</td>\n",
       "      <td>1.067547</td>\n",
       "    </tr>\n",
       "    <tr>\n",
       "      <th>2018-01-14</th>\n",
       "      <td>1.117917</td>\n",
       "      <td>0.282558</td>\n",
       "      <td>-0.266234</td>\n",
       "      <td>-0.568707</td>\n",
       "    </tr>\n",
       "  </tbody>\n",
       "</table>\n",
       "</div>"
      ],
      "text/plain": [
       "                col1      col2      col3      col4\n",
       "2018-01-07  2.060465  1.702496  1.370201  1.067547\n",
       "2018-01-08  2.060465  1.702496  1.370201  1.067547\n",
       "2018-01-09  2.060465  1.702496  1.370201  1.067547\n",
       "2018-01-10  2.060465  1.702496  1.370201  1.067547\n",
       "2018-01-11  2.060465  1.702496  1.370201  1.067547\n",
       "2018-01-12  2.060465  1.702496  1.370201  1.067547\n",
       "2018-01-13  2.060465  1.702496  1.370201  1.067547\n",
       "2018-01-14  1.117917  0.282558 -0.266234 -0.568707"
      ]
     },
     "execution_count": 75,
     "metadata": {},
     "output_type": "execute_result"
    }
   ],
   "source": [
    "# As you notice, there will be NaN values, let's engage in interpolation\n",
    "# Foprward fill or backward fill\n",
    "df.resample('D').ffill()"
   ]
  },
  {
   "cell_type": "code",
   "execution_count": 76,
   "metadata": {
    "slideshow": {
     "slide_type": "slide"
    }
   },
   "outputs": [
    {
     "data": {
      "text/html": [
       "<div>\n",
       "<style scoped>\n",
       "    .dataframe tbody tr th:only-of-type {\n",
       "        vertical-align: middle;\n",
       "    }\n",
       "\n",
       "    .dataframe tbody tr th {\n",
       "        vertical-align: top;\n",
       "    }\n",
       "\n",
       "    .dataframe thead th {\n",
       "        text-align: right;\n",
       "    }\n",
       "</style>\n",
       "<table border=\"1\" class=\"dataframe\">\n",
       "  <thead>\n",
       "    <tr style=\"text-align: right;\">\n",
       "      <th></th>\n",
       "      <th>col1</th>\n",
       "      <th>col2</th>\n",
       "      <th>col3</th>\n",
       "      <th>col4</th>\n",
       "    </tr>\n",
       "  </thead>\n",
       "  <tbody>\n",
       "    <tr>\n",
       "      <th>2018-01-07</th>\n",
       "      <td>2.060465</td>\n",
       "      <td>1.702496</td>\n",
       "      <td>1.370201</td>\n",
       "      <td>1.067547</td>\n",
       "    </tr>\n",
       "    <tr>\n",
       "      <th>2018-01-08</th>\n",
       "      <td>2.060465</td>\n",
       "      <td>1.702496</td>\n",
       "      <td>1.370201</td>\n",
       "      <td>1.067547</td>\n",
       "    </tr>\n",
       "    <tr>\n",
       "      <th>2018-01-09</th>\n",
       "      <td>2.060465</td>\n",
       "      <td>1.702496</td>\n",
       "      <td>1.370201</td>\n",
       "      <td>1.067547</td>\n",
       "    </tr>\n",
       "    <tr>\n",
       "      <th>2018-01-10</th>\n",
       "      <td>2.060465</td>\n",
       "      <td>1.702496</td>\n",
       "      <td>1.370201</td>\n",
       "      <td>1.067547</td>\n",
       "    </tr>\n",
       "    <tr>\n",
       "      <th>2018-01-11</th>\n",
       "      <td>NaN</td>\n",
       "      <td>NaN</td>\n",
       "      <td>NaN</td>\n",
       "      <td>NaN</td>\n",
       "    </tr>\n",
       "    <tr>\n",
       "      <th>2018-01-12</th>\n",
       "      <td>NaN</td>\n",
       "      <td>NaN</td>\n",
       "      <td>NaN</td>\n",
       "      <td>NaN</td>\n",
       "    </tr>\n",
       "    <tr>\n",
       "      <th>2018-01-13</th>\n",
       "      <td>NaN</td>\n",
       "      <td>NaN</td>\n",
       "      <td>NaN</td>\n",
       "      <td>NaN</td>\n",
       "    </tr>\n",
       "    <tr>\n",
       "      <th>2018-01-14</th>\n",
       "      <td>1.117917</td>\n",
       "      <td>0.282558</td>\n",
       "      <td>-0.266234</td>\n",
       "      <td>-0.568707</td>\n",
       "    </tr>\n",
       "  </tbody>\n",
       "</table>\n",
       "</div>"
      ],
      "text/plain": [
       "                col1      col2      col3      col4\n",
       "2018-01-07  2.060465  1.702496  1.370201  1.067547\n",
       "2018-01-08  2.060465  1.702496  1.370201  1.067547\n",
       "2018-01-09  2.060465  1.702496  1.370201  1.067547\n",
       "2018-01-10  2.060465  1.702496  1.370201  1.067547\n",
       "2018-01-11       NaN       NaN       NaN       NaN\n",
       "2018-01-12       NaN       NaN       NaN       NaN\n",
       "2018-01-13       NaN       NaN       NaN       NaN\n",
       "2018-01-14  1.117917  0.282558 -0.266234 -0.568707"
      ]
     },
     "execution_count": 76,
     "metadata": {},
     "output_type": "execute_result"
    }
   ],
   "source": [
    "# We can also choose to only fill a certain number of periods, by using the limit parameter in the ffill()\n",
    "# function. For instance, here, we are limiting to interpolating three observations\n",
    "df.resample('D').ffill(limit=3)"
   ]
  },
  {
   "cell_type": "markdown",
   "metadata": {
    "slideshow": {
     "slide_type": "slide"
    }
   },
   "source": [
    "## Moving Window Functions\n",
    "* sometimes we want to do manipulation on a chunk of a dataframe by time period, e.g. 5 mins, instead of using groups\n",
    "* let's look at examples on the stock market. We are going to look at Apple and Microsoft's daily stock price from 2012 to 2018"
   ]
  },
  {
   "cell_type": "code",
   "execution_count": 77,
   "metadata": {
    "slideshow": {
     "slide_type": "subslide"
    }
   },
   "outputs": [
    {
     "data": {
      "text/html": [
       "<div>\n",
       "<style scoped>\n",
       "    .dataframe tbody tr th:only-of-type {\n",
       "        vertical-align: middle;\n",
       "    }\n",
       "\n",
       "    .dataframe tbody tr th {\n",
       "        vertical-align: top;\n",
       "    }\n",
       "\n",
       "    .dataframe thead th {\n",
       "        text-align: right;\n",
       "    }\n",
       "</style>\n",
       "<table border=\"1\" class=\"dataframe\">\n",
       "  <thead>\n",
       "    <tr style=\"text-align: right;\">\n",
       "      <th></th>\n",
       "      <th>Date</th>\n",
       "      <th>Open</th>\n",
       "      <th>High</th>\n",
       "      <th>Low</th>\n",
       "      <th>Close</th>\n",
       "      <th>Adj Close</th>\n",
       "      <th>Volume</th>\n",
       "    </tr>\n",
       "  </thead>\n",
       "  <tbody>\n",
       "    <tr>\n",
       "      <th>0</th>\n",
       "      <td>2012-01-03</td>\n",
       "      <td>58.485714</td>\n",
       "      <td>58.928570</td>\n",
       "      <td>58.428570</td>\n",
       "      <td>58.747143</td>\n",
       "      <td>39.172771</td>\n",
       "      <td>75555200</td>\n",
       "    </tr>\n",
       "    <tr>\n",
       "      <th>1</th>\n",
       "      <td>2012-01-04</td>\n",
       "      <td>58.571430</td>\n",
       "      <td>59.240002</td>\n",
       "      <td>58.468571</td>\n",
       "      <td>59.062859</td>\n",
       "      <td>39.383293</td>\n",
       "      <td>65005500</td>\n",
       "    </tr>\n",
       "    <tr>\n",
       "      <th>2</th>\n",
       "      <td>2012-01-05</td>\n",
       "      <td>59.278572</td>\n",
       "      <td>59.792858</td>\n",
       "      <td>58.952858</td>\n",
       "      <td>59.718571</td>\n",
       "      <td>39.820515</td>\n",
       "      <td>67817400</td>\n",
       "    </tr>\n",
       "    <tr>\n",
       "      <th>3</th>\n",
       "      <td>2012-01-06</td>\n",
       "      <td>59.967144</td>\n",
       "      <td>60.392857</td>\n",
       "      <td>59.888573</td>\n",
       "      <td>60.342857</td>\n",
       "      <td>40.236809</td>\n",
       "      <td>79573200</td>\n",
       "    </tr>\n",
       "    <tr>\n",
       "      <th>4</th>\n",
       "      <td>2012-01-09</td>\n",
       "      <td>60.785713</td>\n",
       "      <td>61.107143</td>\n",
       "      <td>60.192856</td>\n",
       "      <td>60.247143</td>\n",
       "      <td>40.172970</td>\n",
       "      <td>98506100</td>\n",
       "    </tr>\n",
       "  </tbody>\n",
       "</table>\n",
       "</div>"
      ],
      "text/plain": [
       "         Date       Open       High        Low      Close  Adj Close    Volume\n",
       "0  2012-01-03  58.485714  58.928570  58.428570  58.747143  39.172771  75555200\n",
       "1  2012-01-04  58.571430  59.240002  58.468571  59.062859  39.383293  65005500\n",
       "2  2012-01-05  59.278572  59.792858  58.952858  59.718571  39.820515  67817400\n",
       "3  2012-01-06  59.967144  60.392857  59.888573  60.342857  40.236809  79573200\n",
       "4  2012-01-09  60.785713  61.107143  60.192856  60.247143  40.172970  98506100"
      ]
     },
     "execution_count": 77,
     "metadata": {},
     "output_type": "execute_result"
    }
   ],
   "source": [
    "apple = pd.read_csv(\"datasets/AAPL.csv\")\n",
    "ms = pd.read_csv(\"datasets/MSFT.csv\")\n",
    "\n",
    "apple.head()"
   ]
  },
  {
   "cell_type": "code",
   "execution_count": 78,
   "metadata": {
    "slideshow": {
     "slide_type": "slide"
    }
   },
   "outputs": [
    {
     "data": {
      "text/html": [
       "<div>\n",
       "<style scoped>\n",
       "    .dataframe tbody tr th:only-of-type {\n",
       "        vertical-align: middle;\n",
       "    }\n",
       "\n",
       "    .dataframe tbody tr th {\n",
       "        vertical-align: top;\n",
       "    }\n",
       "\n",
       "    .dataframe thead th {\n",
       "        text-align: right;\n",
       "    }\n",
       "</style>\n",
       "<table border=\"1\" class=\"dataframe\">\n",
       "  <thead>\n",
       "    <tr style=\"text-align: right;\">\n",
       "      <th></th>\n",
       "      <th>AAPL</th>\n",
       "      <th>MSFT</th>\n",
       "    </tr>\n",
       "  </thead>\n",
       "  <tbody>\n",
       "    <tr>\n",
       "      <th>0</th>\n",
       "      <td>58.747143</td>\n",
       "      <td>26.770000</td>\n",
       "    </tr>\n",
       "    <tr>\n",
       "      <th>1</th>\n",
       "      <td>59.062859</td>\n",
       "      <td>27.400000</td>\n",
       "    </tr>\n",
       "    <tr>\n",
       "      <th>2</th>\n",
       "      <td>59.718571</td>\n",
       "      <td>27.680000</td>\n",
       "    </tr>\n",
       "    <tr>\n",
       "      <th>3</th>\n",
       "      <td>60.342857</td>\n",
       "      <td>28.110001</td>\n",
       "    </tr>\n",
       "    <tr>\n",
       "      <th>4</th>\n",
       "      <td>60.247143</td>\n",
       "      <td>27.740000</td>\n",
       "    </tr>\n",
       "  </tbody>\n",
       "</table>\n",
       "</div>"
      ],
      "text/plain": [
       "        AAPL       MSFT\n",
       "0  58.747143  26.770000\n",
       "1  59.062859  27.400000\n",
       "2  59.718571  27.680000\n",
       "3  60.342857  28.110001\n",
       "4  60.247143  27.740000"
      ]
     },
     "execution_count": 78,
     "metadata": {},
     "output_type": "execute_result"
    }
   ],
   "source": [
    "# Let's look at close price\n",
    "df = pd.DataFrame({'AAPL': apple['Close'],'MSFT':ms['Close']})\n",
    "df.head()"
   ]
  },
  {
   "cell_type": "code",
   "execution_count": 83,
   "metadata": {
    "slideshow": {
     "slide_type": "slide"
    }
   },
   "outputs": [
    {
     "data": {
      "text/plain": [
       "<matplotlib.axes._subplots.AxesSubplot at 0x7f10c9b69978>"
      ]
     },
     "execution_count": 83,
     "metadata": {},
     "output_type": "execute_result"
    },
    {
     "data": {
      "image/png": "[encoded data removed]",
      "text/plain": [
       "<Figure size 1080x432 with 1 Axes>"
      ]
     },
     "metadata": {
      "needs_background": "light"
     },
     "output_type": "display_data"
    }
   ],
   "source": [
    "# Now let's plot the prices over the years\n",
    "import matplotlib.pyplot as plt\n",
    "plt.rcParams[\"figure.figsize\"] = (15,6)\n",
    "df.plot()"
   ]
  },
  {
   "cell_type": "code",
   "execution_count": 84,
   "metadata": {
    "slideshow": {
     "slide_type": "slide"
    }
   },
   "outputs": [
    {
     "name": "stderr",
     "output_type": "stream",
     "text": [
      "/opt/conda/lib/python3.7/site-packages/ipykernel_launcher.py:3: FutureWarning: Currently, 'apply' passes the values as ndarrays to the applied function. In the future, this will change to passing it as Series objects. You need to specify 'raw=True' to keep the current behaviour, and you can pass 'raw=False' to silence this warning\n",
      "  This is separate from the ipykernel package so we can avoid doing imports until\n"
     ]
    },
    {
     "data": {
      "image/png": "[encoded data removed]",
      "text/plain": [
       "<Figure size 1080x432 with 1 Axes>"
      ]
     },
     "metadata": {
      "needs_background": "light"
     },
     "output_type": "display_data"
    }
   ],
   "source": [
    "# The rolling() operator lets us specify a window and apply a function\n",
    "# Here, let's do a 100 day rolling window where we average the values and plot it.\n",
    "df.rolling(100).apply(np.mean).plot()\n",
    "plt.show()"
   ]
  },
  {
   "cell_type": "markdown",
   "metadata": {
    "slideshow": {
     "slide_type": "slide"
    }
   },
   "source": [
    "* These are just the very basics of manipulating time series data in python.\n",
    "* Your project would be a *great* place to do some independent exploration of additional time series functionality"
   ]
  }
 ],
 "metadata": {
  "celltoolbar": "Slideshow",
  "kernelspec": {
   "display_name": "Python 3",
   "language": "python",
   "name": "python3"
  },
  "language_info": {
   "codemirror_mode": {
    "name": "ipython",
    "version": 3
   },
   "file_extension": ".py",
   "mimetype": "text/x-python",
   "name": "python",
   "nbconvert_exporter": "python",
   "pygments_lexer": "ipython3",
   "version": "3.7.3"
  }
 },
 "nbformat": 4,
 "nbformat_minor": 2
}
